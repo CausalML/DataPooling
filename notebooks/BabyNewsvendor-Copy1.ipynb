{
 "cells": [
  {
   "cell_type": "code",
   "execution_count": 2,
   "metadata": {
    "collapsed": false
   },
   "outputs": [],
   "source": [
    "using Distributions, PyPlot"
   ]
  },
  {
   "cell_type": "markdown",
   "metadata": {},
   "source": [
    "## Constructing an example such taht no shrinkage to any point helps..."
   ]
  },
  {
   "cell_type": "code",
   "execution_count": 61,
   "metadata": {
    "collapsed": false
   },
   "outputs": [],
   "source": [
    "srand(8675309)\n"
   ]
  },
  {
   "cell_type": "code",
   "execution_count": 32,
   "metadata": {
    "collapsed": false
   },
   "outputs": [
    {
     "data": {
      "text/plain": [
       "var (generic function with 2 methods)"
      ]
     },
     "execution_count": 32,
     "metadata": {},
     "output_type": "execute_result"
    }
   ],
   "source": [
    "#xk = 1 iff p(alpha) > 1-s\n",
    "#prob xk = 1\n",
    "function prob_k(alpha, p, N, p0, s, useNorm)\n",
    "    dist = useNorm ? Normal(N*p, sqrt(N * p * (1-p))) : Binomial(N, p)\n",
    "    1-cdf(dist, N * (1 - s - alpha * p0) / (1-alpha))\n",
    "end    \n",
    "    \n",
    "#Expected Obj at alpha\n",
    "function obj_k(alpha, p, N, p0, s, useNorm)\n",
    "    val = (1 - s - p) * prob_k(alpha, p, N, p0, s, useNorm) + p * s\n",
    "    val/(1-s)\n",
    "end\n",
    "\n",
    "function var_obj_k(alpha, p, N, p0, s, useNorm)\n",
    "    q = prob_k(alpha, p, N, p0, s, useNorm)\n",
    "    (1-s-p)^2/(1-s)^2 * q * (1-q)\n",
    "end\n",
    "\n",
    "obj(alpha, ps, N, p0, ss, useNorm) = mean(map(t-> obj_k(alpha, t[1], N, p0, t[2], useNorm), zip(ps, ss)))\n",
    "var(alpha, ps, N, p0, ss, useNorm) = mean(map(t->var_obj_k(alpha, t[1], N, p0, t[2], useNorm), zip(ps, ss)))/K"
   ]
  },
  {
   "cell_type": "code",
   "execution_count": 33,
   "metadata": {
    "collapsed": false
   },
   "outputs": [
    {
     "data": {
      "text/plain": [
       "1000-element Array{Float64,1}:\n",
       " 0.909091 \n",
       " 0.909091 \n",
       " 0.909091 \n",
       " 0.909091 \n",
       " 0.909091 \n",
       " 0.909091 \n",
       " 0.909091 \n",
       " 0.909091 \n",
       " 0.909091 \n",
       " 0.909091 \n",
       " 0.909091 \n",
       " 0.909091 \n",
       " 0.909091 \n",
       " ⋮        \n",
       " 0.0909091\n",
       " 0.0909091\n",
       " 0.0909091\n",
       " 0.0909091\n",
       " 0.0909091\n",
       " 0.0909091\n",
       " 0.0909091\n",
       " 0.0909091\n",
       " 0.0909091\n",
       " 0.0909091\n",
       " 0.0909091\n",
       " 0.0909091"
      ]
     },
     "execution_count": 33,
     "metadata": {},
     "output_type": "execute_result"
    }
   ],
   "source": [
    "N = 11\n",
    "K = 1000\n",
    "alpha_grid = linspace(0, .99, 100)\n",
    "\n",
    "##For even problems\n",
    "s_even = 10/11\n",
    "p_even = 1/20  #Prob = 1\n",
    "\n",
    "s_odd = 1/11\n",
    "p_odd = 19/20\n",
    "\n",
    "ps = [p_even * ones(K/2); p_odd * ones(K/2)]\n",
    "ss = [s_even * ones(K/2); s_odd * ones(K/2)]\n"
   ]
  },
  {
   "cell_type": "markdown",
   "metadata": {},
   "source": [
    "### Actual Cost computations"
   ]
  },
  {
   "cell_type": "code",
   "execution_count": 48,
   "metadata": {
    "collapsed": false
   },
   "outputs": [
    {
     "data": {
      "image/png": "[encoded data removed]",
      "text/plain": [
       "PyPlot.Figure(PyObject <matplotlib.figure.Figure object at 0x12c456750>)"
      ]
     },
     "metadata": {},
     "output_type": "display_data"
    },
    {
     "data": {
      "text/plain": [
       "(0.96, 0.2974999999999995, 0.032923764031652314)"
      ]
     },
     "execution_count": 48,
     "metadata": {},
     "output_type": "execute_result"
    }
   ],
   "source": [
    "p0 = mean(ps[1])\n",
    "out = map(a->obj(a, ps, N, p0, ss, false), alpha_grid)\n",
    "out_norm = map(a->obj(a, ps, N, p0, ss, true), alpha_grid)\n",
    "\n",
    "plot(alpha_grid, out, \".\")\n",
    "plot(alpha_grid, out_norm, \"-\")\n",
    "axvline(2/N, color=\"k\", linestyle=\"dashed\")\n",
    "\n",
    "alphaOR = alpha_grid[indmin(out)]\n",
    "alphaOR, minimum(out), 1-minimum(out)/out[1]"
   ]
  },
  {
   "cell_type": "markdown",
   "metadata": {},
   "source": [
    "### Some Notes\n",
    " - Oracle can offer no benefit for all of p0 = 0, .5, 1\n",
    " - Normal approximation can be quite bad... suggests there is a benefit when there isn't."
   ]
  },
  {
   "cell_type": "markdown",
   "metadata": {},
   "source": [
    "### Original and shrunken cost-curves"
   ]
  },
  {
   "cell_type": "code",
   "execution_count": null,
   "metadata": {
    "collapsed": false
   },
   "outputs": [],
   "source": [
    "#Plots the SAA cost curve across p_k and the shrunken cost curve across p_k.  Notice, Benefits when p_k > 1-q.\n",
    "\n",
    "saa_objs = map(p-> obj_k(0, p, p0), ps)\n",
    "or_objs = map(p->obj_k(alphaOR, p, p0), ps)\n",
    "#full_objs = map(p->obj_k(.99, p, p0), ps)\n",
    "\n",
    "plot(ps, saa_objs, \".\")\n",
    "plot(ps, or_objs, \".r\")\n",
    "#plot(ps, full_objs, \"--k\")\n",
    "axhline(out[1])\n",
    "axhline(minimum(out), color=\"r\")\n",
    "axvline(1-q, linestyle=\"dotted\", color=\"k\")"
   ]
  },
  {
   "cell_type": "code",
   "execution_count": null,
   "metadata": {
    "collapsed": false
   },
   "outputs": [],
   "source": [
    "##Evaluate the \"deriv\" at two points equally spaced from 1-q\n",
    "\n",
    "delta = .01\n",
    "low = 1-q - delta\n",
    "high= 1-q + delta\n",
    "\n",
    "function prob_deriv(p, p0, alpha)\n",
    "    prob_portion(alpha, p, p0) - prob_portion(0, p, p0)\n",
    "end\n",
    "delta_grid = linspace(0, 1-q, 30)\n",
    "low = map(d->prob_deriv(1-q-d, p0, alphaOR), delta_grid)\n",
    "high= map(d->prob_deriv(1-q+d, p0, alphaOR), delta_grid)\n",
    "\n",
    "plot(delta_grid, low, \"--k\")\n",
    "plot(delta_grid, high, \"--r\")\n",
    "\n"
   ]
  },
  {
   "cell_type": "markdown",
   "metadata": {},
   "source": [
    "### Plots the losses for $p_k < 1-q$ vs. the benefits for $p_k > 1-q$"
   ]
  },
  {
   "cell_type": "code",
   "execution_count": null,
   "metadata": {
    "collapsed": false
   },
   "outputs": [],
   "source": [
    "saa_objs = map(p-> obj_k(0, p, p0), ps)\n",
    "or_objs = map(p->obj_k(alphaOR, p, p0), ps)\n",
    "\n",
    "diff = or_objs - saa_objs\n",
    "\n",
    "filt = ps .> 1-q\n",
    "plot(ps[filt] - (1 -q), -diff[filt], \".\")\n",
    "plot(1-q -ps[.!filt], diff[.!filt], \".r\")"
   ]
  }
 ],
 "metadata": {
  "kernelspec": {
   "display_name": "Julia 0.6.0",
   "language": "julia",
   "name": "julia-0.6"
  },
  "language_info": {
   "file_extension": ".jl",
   "mimetype": "application/julia",
   "name": "julia",
   "version": "0.6.0"
  }
 },
 "nbformat": 4,
 "nbformat_minor": 0
}
