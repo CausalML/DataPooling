{
 "cells": [
  {
   "cell_type": "code",
   "execution_count": 1,
   "metadata": {
    "collapsed": false
   },
   "outputs": [],
   "source": [
    "include(\"../src/JS_SAA_main.jl\")\n",
    "using JS"
   ]
  },
  {
   "cell_type": "code",
   "execution_count": 9,
   "metadata": {
    "collapsed": false
   },
   "outputs": [],
   "source": [
    "full_data = readcsv(\"../RossmanKaggleData/Results/AdjSalesDataByStore.csv\");\n",
    "dat = full_data[2:end, 2:end]\n",
    "N, K = size(dat)\n",
    "\n",
    "d = 1000\n",
    "ps_full = zeros(d, K)\n",
    "supp_full = zeros(d, K)\n",
    "\n",
    "for k = 1:K\n",
    "    vec = filter(x-> x != \"NA\", dat[:, k])\n",
    "    supp, p, h = JS.bin_data(vec, d)    \n",
    "    supp_full[:, k] = supp[:]\n",
    "    ps_full[:, k] = p[:]\n",
    "end\n",
    "Nhats = sum(ps_full, 1)\n",
    "ps_full = ps_full ./ Nhats\n",
    "\n",
    "#now iterate through \n",
    "dat_indx = dat[:, :]\n",
    "for k = 1:K\n",
    "    for i = 1:N\n",
    "        if dat[i, k] != \"NA\"\n",
    "            dat_indx[i, k] = findlast(x -> x <= dat[i, k], supp_full[:, k])        \n",
    "        end\n",
    "    end\n",
    "end"
   ]
  },
  {
   "cell_type": "code",
   "execution_count": 10,
   "metadata": {
    "collapsed": false
   },
   "outputs": [],
   "source": [
    "#Write some Shit \n",
    "full_data_indx = hcat(full_data[1:end, 1],  vcat( full_data[1, 2:end]', dat_indx))\n",
    "writecsv(\"../RossmanKaggleData/Results/AdjSalesByStore_Binned$(d).csv\", full_data_indx)\n",
    "writecsv(\"../RossmanKaggleData/Results/support$(d).csv\", supp_full)\n",
    "writecsv(\"../RossmanKaggleData/Results/ps_full$(d).csv\", ps_full)"
   ]
  },
  {
   "cell_type": "code",
   "execution_count": 6,
   "metadata": {
    "collapsed": false
   },
   "outputs": [
    {
     "data": {
      "text/plain": [
       "880×1115 Array{Any,2}:\n",
       "   \"NA\"    \"NA\"    \"NA\"    \"NA\"    \"NA\"  …    \"NA\"    \"NA\"    \"NA\"    \"NA\"\n",
       " 12       6       7       8       8          6       6       9       4    \n",
       "  8       6       5       5       6          4       4       6       5    \n",
       "  8       6       6       5       9          5       4       6       6    \n",
       " 10       1       3       9       1          5       3       7       6    \n",
       "   \"NA\"    \"NA\"    \"NA\"    \"NA\"    \"NA\"  …    \"NA\"    \"NA\"    \"NA\"    \"NA\"\n",
       " 18      12      15      12      15         20      13       9      11    \n",
       " 12      11      11       8      12         12       8       7       7    \n",
       " 12      12       9       6      12         10       6       5       6    \n",
       " 10       9       8       7      10         10       9       6       7    \n",
       " 10       7      11       9      10      …   9       7       8       7    \n",
       " 10       2       3       7       2          6       4       7       6    \n",
       "   \"NA\"    \"NA\"    \"NA\"    \"NA\"    \"NA\"       \"NA\"    \"NA\"    \"NA\"    \"NA\"\n",
       "  ⋮                                      ⋱                                \n",
       "  7       5       4       8       7          3       5      12       8    \n",
       "  4       4       4       6       5          2       2       9       6    \n",
       "  3       7       4       5       5      …   1       1       8       7    \n",
       "  4       5       4       2       6          2       5       8       8    \n",
       "  4       4       3       4       6          1       5       7       8    \n",
       "  7       1       1       6       1          1       1       9      10    \n",
       "   \"NA\"    \"NA\"    \"NA\"    \"NA\"    \"NA\"       \"NA\"    \"NA\"    \"NA\"    \"NA\"\n",
       " 13      11       8      11      14      …   9       8      15      18    \n",
       "  9       8       9       8      12          5       6      14      13    \n",
       "  8      10       7       8      11          4       6      14      12    \n",
       "  9       8       9       8       9          5       8      12      13    \n",
       " 10       9       8      14       8          5       8      16      14    "
      ]
     },
     "execution_count": 6,
     "metadata": {},
     "output_type": "execute_result"
    }
   ],
   "source": [
    "#check things have correct size\n",
    "#ps_full = readcsv(\"../RossmanKaggleData/Results/ps_full20.csv\")\n",
    "dat_indx"
   ]
  },
  {
   "cell_type": "code",
   "execution_count": null,
   "metadata": {
    "collapsed": false
   },
   "outputs": [],
   "source": [
    "binned_data = readcsv(\"../RossmanKaggleData/Results/AdjSalesByStore_Binned20.csv\")"
   ]
  },
  {
   "cell_type": "code",
   "execution_count": null,
   "metadata": {
    "collapsed": true
   },
   "outputs": [],
   "source": [
    "\n",
    "# function make_edges(a, b)\n",
    "#     incr = (b - a) / d\n",
    "#     edges = [e for e = a:incr:b]\n",
    "#     edges[end] += incr / 100\n",
    "#     edges\n",
    "# end\n",
    "# data_hists = [fit(Histogram, filter(x->x<Inf,data[:,i]),edges=makeedges(minimum(data[:,i]),maximum(data[:,i]))) for i in 1:Kall]\n",
    "# data_binned = Array{Float64,2}(ndays, Kall)\n",
    "# ps_full = Array{Float64,2}(d, Kall)\n",
    "# supp_full = Array{Float64,2}(d, Kall)\n",
    "# for k=1:Kall:\n",
    "#     data_binned[:,k] = map(x->searchsortedfirst(data_hists[k].edges[1], x), data[:,k])\n",
    "#     c = counts(data_binned[:,k], d)\n",
    "#     ps_full[:,k] = c/sum(c)\n",
    "#     supp_full[:,k] = data_hists[k].edges[1][:end-1]\n",
    "# end\n",
    "\n",
    "\n"
   ]
  },
  {
   "cell_type": "code",
   "execution_count": null,
   "metadata": {
    "collapsed": false
   },
   "outputs": [],
   "source": [
    "tdata = readcsv(\"../RossmanKaggleData/Results/AdjSalesByStore_Binned20.csv\")[2:end, 2:end]\n",
    "binned_data = map(x->parse(Float64, x), tdata)"
   ]
  },
  {
   "cell_type": "code",
   "execution_count": null,
   "metadata": {
    "collapsed": false
   },
   "outputs": [],
   "source": [
    "# dat_vec = filter(x-> x != \"NA\", data[:, 1])\n",
    "# const l = minimum(dat_vec)\n",
    "# const u = maximum(dat_vec)\n",
    "# bin_width = (u - l) / 10\n",
    "# bin_edges = collect(l:bin_width:u)\n",
    "# bin_edges[end] += .001 * u  #inflate the last one a little...\n",
    "# t = fit(Histogram, dat_vec, bin_edges, closed =:left)"
   ]
  },
  {
   "cell_type": "code",
   "execution_count": 12,
   "metadata": {
    "collapsed": false
   },
   "outputs": [
    {
     "data": {
      "text/plain": [
       "2-element BitArray{1}:\n",
       "  true\n",
       " false"
      ]
     },
     "execution_count": 12,
     "metadata": {},
     "output_type": "execute_result"
    }
   ],
   "source": [
    "any(@. isapprox([1., 2.], 1)"
   ]
  },
  {
   "cell_type": "code",
   "execution_count": null,
   "metadata": {
    "collapsed": true
   },
   "outputs": [],
   "source": []
  }
 ],
 "metadata": {
  "kernelspec": {
   "display_name": "Julia 0.6.0",
   "language": "julia",
   "name": "julia-0.6"
  },
  "language_info": {
   "file_extension": ".jl",
   "mimetype": "application/julia",
   "name": "julia",
   "version": "0.6.0"
  }
 },
 "nbformat": 4,
 "nbformat_minor": 0
}
