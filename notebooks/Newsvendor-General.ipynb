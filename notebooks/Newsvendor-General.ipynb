{
 "cells": [
  {
   "cell_type": "code",
   "execution_count": 1,
   "metadata": {
    "collapsed": false
   },
   "outputs": [
    {
     "data": {
      "text/plain": [
       "Plots.PyPlotBackend()"
      ]
     },
     "execution_count": 1,
     "metadata": {},
     "output_type": "execute_result"
    }
   ],
   "source": [
    "using Distributions, Plots\n",
    "include(\"../src/JS_SAA_main.jl\")\n",
    "pyplot()"
   ]
  },
  {
   "cell_type": "code",
   "execution_count": 27,
   "metadata": {
    "collapsed": false
   },
   "outputs": [],
   "source": [
    "#discrete newsvendors supported 1:d\n",
    "K = 10000\n",
    "s = .95\n",
    "d = 10\n",
    "N = 20\n",
    "srand(8675309)\n",
    "\n",
    "#gen an \"interesting\" distribution of ps still centered at 1/d\n",
    "p0 = ones(d)/d\n",
    "ps = rand(Dirichlet(ones(d)), floor(Int, K/2))\n",
    "ps = [ps rand(Dirichlet(5 * ones(d)), K - floor(Int, K/2)) ]\n",
    "alpha_grid = linspace(0, 50, 75)\n",
    "lams = ones(K)\n",
    "\n",
    "Nhats = rand(Poisson(20), K)\n",
    "mhats = JS.sim_path(ps, Nhats);\n",
    "\n",
    "#build function arrays \n",
    "# xs  = [(alpha, mhat_k)-> x_k(alpha, p0, mhat_k, s) for k = 1:K]\n",
    "# cs = [x->c_ki(i, x, s) for i = 1:2, k = 1:K]\n",
    "\n",
    "cs, xs = JS.genNewsvendors(collect(1:d), s * ones(K), K);"
   ]
  },
  {
   "cell_type": "code",
   "execution_count": 28,
   "metadata": {
    "collapsed": false
   },
   "outputs": [],
   "source": [
    "alpha_grid = linspace(0, 40, 100)\n",
    "outOR = map(a-> JS.zbar(xs, cs, p0, a, mhats, ps, ones(K)), alpha_grid)\n",
    "outLOO = map(a->JS.zLOObar_unsc(xs, cs, p0, a, mhats), alpha_grid);\n",
    "outSAA = map(a->JS.zbar(xs, cs, p0, a, mhats, mhats ./ Nhats', ones(K)), alpha_grid);"
   ]
  },
  {
   "cell_type": "code",
   "execution_count": 29,
   "metadata": {
    "collapsed": false
   },
   "outputs": [
    {
     "data": {
      "image/png": "[encoded data removed]"
     },
     "execution_count": 29,
     "metadata": {},
     "output_type": "execute_result"
    }
   ],
   "source": [
    "#plot(alpha_grid, [outOR outLOO/20 outSAA], label=[\"Oracle\" \"LOO\" \"SAA\"], marker=:circ)\n",
    "plot(alpha_grid, [outOR outLOO/20], label=[\"Oracle\" \"LOO\"], marker=:circ)\n"
   ]
  },
  {
   "cell_type": "code",
   "execution_count": 20,
   "metadata": {
    "collapsed": false
   },
   "outputs": [],
   "source": [
    "t = [\"alpha\" \"OR\" \"LOOEstim_Sc\" \"SAAEstim\";\n",
    "    alpha_grid outOR outLOO/20 outSAA]\n",
    "writecsv(\"../Results/singleKAcrossAlpha_10000_.95.csv\", t)"
   ]
  },
  {
   "cell_type": "code",
   "execution_count": null,
   "metadata": {
    "collapsed": false
   },
   "outputs": [],
   "source": [
    "### Sanity Checks.  \n",
    "#  ###Check that xs(alpha) actually minimizes p(\\alpha)^T c(alpha)\n",
    "#  # spot check zLOO(alpha) and ZOR(alpha) against other implementation\n",
    "#  # do a run for large K.\n",
    "#  #check that oracle value minimized at bayesian value = 2\n",
    "#  #do a curve by curve spot check\n",
    "k0 = 15\n",
    "alpha0 = 0\n",
    "palpha_k = JS.shrink(mhats[:, k0]/Nhats[k0], p0, alpha0, Nhats[k0])\n",
    "xalpha_k = xs[k0](p0, alpha0, mhats[:, k0])\n",
    "\n",
    "println(\"palpha_k:\\t\", palpha_k)\n",
    "println(\"x_alphak:\\t\", xalpha_k)\n",
    "\n",
    "dot(palpha_k, map(c_ik -> c_ik(9), cs[:, k0])), dot(palpha_k, map(c_ik -> c_ik(10), cs[:, k0]))\n",
    "\n",
    "\n",
    "# alpha = 2\n",
    "# palphas = similar(ps)\n",
    "# for k = 1:K\n",
    "#     palphas[:, k] = JS.shrink(mhats[:, k]/Nhats[k], p0, alpha, Nhats[k])\n",
    "# end\n",
    "\n",
    "JS.zbar(xs, cs, p0, 2, mhats, ps, ones(K))"
   ]
  },
  {
   "cell_type": "code",
   "execution_count": null,
   "metadata": {
    "collapsed": false
   },
   "outputs": [],
   "source": [
    "### Sanity Checks.  \n",
    "#  # spot check zLOO(alpha) and ZOR(alpha) against other implementation\n",
    "#  # do a run for large K.\n",
    "#  #check that oracle value minimized at bayesian value = 2\n",
    "#  #do a curve by curve spot check\n",
    "\n",
    "#JS.zbar(xs, cs, 1.515, mhats, ps, ones(K)) \n",
    "JS.zLOObar_unsc(xs, cs, p0, 0.44717265850424653, mhats)"
   ]
  },
  {
   "cell_type": "code",
   "execution_count": 15,
   "metadata": {
    "collapsed": false
   },
   "outputs": [
    {
     "data": {
      "text/plain": [
       "(21, 8.080808080808081)"
      ]
     },
     "execution_count": 15,
     "metadata": {},
     "output_type": "execute_result"
    }
   ],
   "source": [
    "JS.mse_estimates(mhats, collect(1:d), p0, alpha_grid)"
   ]
  },
  {
   "cell_type": "code",
   "execution_count": 30,
   "metadata": {
    "collapsed": false
   },
   "outputs": [
    {
     "name": "stdout",
     "output_type": "stream",
     "text": [
      "20.2020202020202\t15.353535353535353\n",
      "4.454050472333146\t1.007404080123694\t1.0128793652647885\n"
     ]
    }
   ],
   "source": [
    "println( alpha_grid[indmin(outOR)], \"\\t\",  alpha_grid[indmin(outLOO)] )\n",
    "println(minimum(outOR), \"\\t\", outOR[indmin(outLOO)]/minimum(outOR), \"\\t\", outOR[21]/minimum(outOR))\n"
   ]
  },
  {
   "cell_type": "code",
   "execution_count": 4,
   "metadata": {
    "collapsed": false
   },
   "outputs": [
    {
     "data": {
      "text/plain": [
       "1×10000 Array{Float64,2}:\n",
       " 1.0  1.0  1.0  1.0  1.0  1.0  1.0  1.0  …  1.0  1.0  1.0  1.0  1.0  1.0  1.0"
      ]
     },
     "execution_count": 4,
     "metadata": {},
     "output_type": "execute_result"
    }
   ],
   "source": [
    "sum(mhats ./ Nhats', 1)"
   ]
  },
  {
   "cell_type": "code",
   "execution_count": null,
   "metadata": {
    "collapsed": false
   },
   "outputs": [],
   "source": [
    "d, K = size(mhats[2:end, 2:end])"
   ]
  },
  {
   "cell_type": "code",
   "execution_count": null,
   "metadata": {
    "collapsed": false
   },
   "outputs": [],
   "source": [
    "sum(mhats, 1)"
   ]
  },
  {
   "cell_type": "code",
   "execution_count": null,
   "metadata": {
    "collapsed": true
   },
   "outputs": [],
   "source": []
  }
 ],
 "metadata": {
  "kernelspec": {
   "display_name": "Julia 0.6.0",
   "language": "julia",
   "name": "julia-0.6"
  },
  "language_info": {
   "file_extension": ".jl",
   "mimetype": "application/julia",
   "name": "julia",
   "version": "0.6.0"
  }
 },
 "nbformat": 4,
 "nbformat_minor": 0
}
