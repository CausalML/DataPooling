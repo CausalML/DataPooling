{
 "cells": [
  {
   "cell_type": "code",
   "execution_count": 4,
   "metadata": {
    "collapsed": true
   },
   "outputs": [],
   "source": [
    "using Distributions, PyPlot"
   ]
  },
  {
   "cell_type": "markdown",
   "metadata": {},
   "source": [
    "### Goal: Find a smooth function that, unlike $L_2$, where $p_0$ matters."
   ]
  },
  {
   "cell_type": "code",
   "execution_count": 68,
   "metadata": {
    "collapsed": false
   },
   "outputs": [
    {
     "data": {
      "text/plain": [
       "obj_norm (generic function with 1 method)"
      ]
     },
     "execution_count": 68,
     "metadata": {},
     "output_type": "execute_result"
    }
   ],
   "source": [
    "srand(8675309)\n",
    "N = 10\n",
    "q = .8  #Service level\n",
    "b = q/(1-q)\n",
    "h = 1\n",
    "p0 = 0\n",
    "K = 1000\n",
    "\n",
    "#Gen Pks uniformly over interval\n",
    "ps = rand(K)\n",
    "\n",
    "#xk = 1 iff phat > 1-q\n",
    "#xk = 0 iff phat < 1-q\n",
    "\n",
    "#Expected Obj at alpha\n",
    "function obj_k(alpha, p, p0)\n",
    "    dist = Binomial(N, p)\n",
    "    #b * p * cdf(dist, (1-q - alpha * p0)/(1-alpha) * N) + h * (1-p) * (1-cdf(dist, (1-q - alpha * p0)/(1-alpha) * N))\n",
    "    (b*p - h*(1-p)) * cdf(dist, (1-q - alpha * p0)/(1-alpha) * N) + h * (1-p)\n",
    "end\n",
    "\n",
    "function obj_k_norm(alpha, p, p0)\n",
    "    dist = Normal(p*N, N * p * (1-p))\n",
    "    (b*p - h*(1-p)) * cdf(dist, (1-q - alpha * p0)/(1-alpha) * N) + h * (1-p)\n",
    "end\n",
    "\n",
    "obj(alpha, ps, p0) = mean(map(p-> obj_k(alpha, p, p0), ps))\n",
    "obj_norm(alpha, ps, p0) = mean(map(p-> obj_k_norm(alpha, p, p0), ps))"
   ]
  },
  {
   "cell_type": "code",
   "execution_count": 69,
   "metadata": {
    "collapsed": false
   },
   "outputs": [
    {
     "data": {
      "image/png": "[encoded data removed]",
      "text/plain": [
       "PyPlot.Figure(PyObject <matplotlib.figure.Figure object at 0x132964fd0>)"
      ]
     },
     "metadata": {},
     "output_type": "display_data"
    },
    {
     "data": {
      "text/plain": [
       "(0.0, 0.4262473232443404, 0.0)"
      ]
     },
     "execution_count": 69,
     "metadata": {},
     "output_type": "execute_result"
    }
   ],
   "source": [
    "alpha_grid = linspace(0, .99, 100)\n",
    "out = map(a->obj(a, ps, p0), alpha_grid)\n",
    "out2 = map(a->obj_norm(a, ps, p0), alpha_grid)\n",
    "\n",
    "plot(alpha_grid, out, \".\")\n",
    "plot(alpha_grid, out2, \"-\")\n",
    "\n",
    "alphaOR = alpha_grid[indmin(out)]\n",
    "alphaOR, minimum(out), 1-minimum(out)/out[1]"
   ]
  },
  {
   "cell_type": "code",
   "execution_count": null,
   "metadata": {
    "collapsed": true
   },
   "outputs": [],
   "source": [
    "### Try a smoothed newsvendor function"
   ]
  },
  {
   "cell_type": "code",
   "execution_count": null,
   "metadata": {
    "collapsed": true
   },
   "outputs": [],
   "source": []
  },
  {
   "cell_type": "code",
   "execution_count": null,
   "metadata": {
    "collapsed": true
   },
   "outputs": [],
   "source": []
  },
  {
   "cell_type": "code",
   "execution_count": null,
   "metadata": {
    "collapsed": true
   },
   "outputs": [],
   "source": []
  },
  {
   "cell_type": "markdown",
   "metadata": {},
   "source": [
    "## Examples To Study:"
   ]
  },
  {
   "cell_type": "code",
   "execution_count": 25,
   "metadata": {
    "collapsed": false
   },
   "outputs": [
    {
     "data": {
      "text/plain": [
       "1000"
      ]
     },
     "execution_count": 25,
     "metadata": {},
     "output_type": "execute_result"
    }
   ],
   "source": [
    "###  No benefits to shrinking at p0 = .5, 0, 1\n",
    "# Suggests that normal approximation is not perfect\n",
    "srand(8675309)\n",
    "N = 10\n",
    "q = .8  #Service level\n",
    "b = q/(1-q)\n",
    "h = 1\n",
    "p0 = .5  #Also no benefits at p0 = 0, 1\n",
    "K = 1000\n"
   ]
  },
  {
   "cell_type": "code",
   "execution_count": null,
   "metadata": {
    "collapsed": true
   },
   "outputs": [],
   "source": []
  }
 ],
 "metadata": {
  "kernelspec": {
   "display_name": "Julia 0.6.0",
   "language": "julia",
   "name": "julia-0.6"
  },
  "language_info": {
   "file_extension": ".jl",
   "mimetype": "application/julia",
   "name": "julia",
   "version": "0.6.0"
  }
 },
 "nbformat": 4,
 "nbformat_minor": 0
}
