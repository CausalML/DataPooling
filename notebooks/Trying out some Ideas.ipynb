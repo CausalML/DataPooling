{
 "cells": [
  {
   "cell_type": "code",
   "execution_count": 1,
   "metadata": {
    "collapsed": true
   },
   "outputs": [],
   "source": [
    "using Distributions, PyPlot"
   ]
  },
  {
   "cell_type": "code",
   "execution_count": 2,
   "metadata": {
    "collapsed": false
   },
   "outputs": [
    {
     "data": {
      "text/plain": [
       "shrink (generic function with 1 method)"
      ]
     },
     "execution_count": 2,
     "metadata": {},
     "output_type": "execute_result"
    }
   ],
   "source": [
    "### Some Helper Function\n",
    "#Order quantity\n",
    "nv_order(dist, b, h) = quantile(dist, b/(b + h))\n",
    "nv_order(supp, probs, b, h) = supp[nv_order(Categorical(probs), b, h)]\n",
    "\n",
    "#Takes a data-stream of integers and computes relative frequency\n",
    "function compute_phat(dat, supp_size) \n",
    "    phat = zeros(supp_size)\n",
    "    for x in dat\n",
    "        phat[x] += 1 \n",
    "    end\n",
    "    phat /= length(dat)\n",
    "end\n",
    "\n",
    "shrink(phat, pzero, lam) = lam * phat + (1 - lam) * pzero"
   ]
  },
  {
   "cell_type": "code",
   "execution_count": 3,
   "metadata": {
    "collapsed": false
   },
   "outputs": [],
   "source": [
    "###\n",
    "# Generate some categorical distributions from a Dirichlet\n",
    "# Then generate data from each one\n",
    "###\n",
    "#srand(8675309)\n",
    "const p = 30\n",
    "const alpha = .1\n",
    "const h = .5\n",
    "const b = 1.0\n",
    "\n",
    "grand_supp = collect(linspace(0, 100, p))\n",
    "grand_dist = Dirichlet(p, alpha)\n",
    "\n",
    "#Assume for now that all have same number of data pts N\n",
    "const N = 20  # num data pts for each subproblem\n",
    "const K = 100 # num subproblems\n",
    "\n",
    "#generate a true distribution for each subproblem\n",
    "#column major\n",
    "true_probs = zeros(p, K)  # pstar^K\n",
    "\n",
    "for k = 1:K\n",
    "    true_probs[:,k] = rand(grand_dist)\n",
    "end    \n",
    "\n",
    "##Generate data for each subproblem.  Reinterpret data as an empirical phat^K\n",
    "phats = zeros(p, K)\n",
    "for k = 1:K\n",
    "    dist_k = Categorical(true_probs[:, k])\n",
    "    dat_k = rand(dist_k, N)\n",
    "    phats[:, k] = compute_phat(dat_k, p)\n",
    "end"
   ]
  },
  {
   "cell_type": "code",
   "execution_count": 4,
   "metadata": {
    "collapsed": false
   },
   "outputs": [
    {
     "data": {
      "image/png": "[encoded data removed]",
      "text/plain": [
       "PyPlot.Figure(PyObject <matplotlib.figure.Figure object at 0x124818150>)"
      ]
     },
     "metadata": {},
     "output_type": "display_data"
    },
    {
     "data": {
      "text/plain": [
       "1-element Array{PyCall.PyObject,1}:\n",
       " PyObject <matplotlib.lines.Line2D object at 0x124aab710>"
      ]
     },
     "execution_count": 4,
     "metadata": {},
     "output_type": "execute_result"
    }
   ],
   "source": [
    "lam_grid = linspace(0, 1, 30)\n",
    "out = zeros(lam_grid)\n",
    "\n",
    "nv_cost(supp, probs, q) = dot(probs, max.(supp - q, 0))\n",
    "p_zero = vec(sum(phats, 2)) / K\n",
    "\n",
    "for (ix, lam) in enumerate(lam_grid)\n",
    "    for k = 1:K\n",
    "        #shrink by lambda and find the newsvendor quantile\n",
    "        q = nv_order(grand_supp, shrink(vec(phats[:, k]), p_zero, lam), b, h)      \n",
    "\n",
    "        #evaluate against the true cost\n",
    "        out[ix] += nv_cost(grand_supp, true_probs[:, k], q) / K\n",
    "    end\n",
    "end\n",
    "\n",
    "plot(lam_grid, out, \"s-b\")"
   ]
  },
  {
   "cell_type": "code",
   "execution_count": 62,
   "metadata": {
    "collapsed": false
   },
   "outputs": [
    {
     "data": {
      "text/plain": [
       "0.42824877045742027"
      ]
     },
     "execution_count": 62,
     "metadata": {},
     "output_type": "execute_result"
    }
   ],
   "source": [
    "#Notice that there is an optimal amount of shrinkage at .4, and that no shrinkage (lam = 1) is substantively worse (50%)\n",
    "out[end]/minimum(out) - 1 \n"
   ]
  },
  {
   "cell_type": "code",
   "execution_count": null,
   "metadata": {
    "collapsed": true
   },
   "outputs": [],
   "source": []
  }
 ],
 "metadata": {
  "kernelspec": {
   "display_name": "Julia 0.6.0",
   "language": "julia",
   "name": "julia-0.6"
  },
  "language_info": {
   "file_extension": ".jl",
   "mimetype": "application/julia",
   "name": "julia",
   "version": "0.6.0"
  }
 },
 "nbformat": 4,
 "nbformat_minor": 0
}
