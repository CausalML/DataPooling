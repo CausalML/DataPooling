{
 "cells": [
  {
   "cell_type": "code",
   "execution_count": 15,
   "metadata": {
    "collapsed": false
   },
   "outputs": [
    {
     "name": "stderr",
     "output_type": "stream",
     "text": [
      "WARNING: replacing module JS\n"
     ]
    }
   ],
   "source": [
    "include(\"../src/JS_SAA_main.jl\")\n",
    "using JS"
   ]
  },
  {
   "cell_type": "code",
   "execution_count": 18,
   "metadata": {
    "collapsed": false
   },
   "outputs": [
    {
     "data": {
      "text/plain": [
       "binned_matrices (generic function with 1 method)"
      ]
     },
     "execution_count": 18,
     "metadata": {},
     "output_type": "execute_result"
    }
   ],
   "source": [
    "function binned_matrices(d, dat)\n",
    "    N, K = size(dat)    \n",
    "    ps_full = zeros(d, K)\n",
    "    supp_full = zeros(d, K)\n",
    "\n",
    "    for k = 1:K\n",
    "        vec = filter(x-> x != \"NA\", dat[:, k])\n",
    "        supp, p, h = JS.bin_data(vec, d)    \n",
    "        supp_full[:, k] = supp[:]\n",
    "        ps_full[:, k] = p[:]\n",
    "    end\n",
    "    Nhats = sum(ps_full, 1)\n",
    "    ps_full = ps_full ./ Nhats\n",
    "\n",
    "    #now iterate through \n",
    "    dat_indx = dat[:, :]\n",
    "    for k = 1:K\n",
    "        for i = 1:N\n",
    "            if dat[i, k] != \"NA\"\n",
    "                dat_indx[i, k] = findlast(x -> x <= dat[i, k], supp_full[:, k])        \n",
    "            end\n",
    "        end\n",
    "    end    \n",
    "    return supp_full, ps_full, dat_indx\n",
    "end\n"
   ]
  },
  {
   "cell_type": "code",
   "execution_count": 27,
   "metadata": {
    "collapsed": false
   },
   "outputs": [],
   "source": [
    "#Write tables for d = 20, 50, 1000\n",
    "d = 1000\n",
    "full_data = readcsv(\"../RossmanKaggleData/Results/AdjSales_NoWeekends_ShuffleWithinCol.csv\");\n",
    "dat = full_data[2:end, 2:end]\n",
    "supp_full, ps_full, dat_indx = binned_matrices(d, dat)\n",
    "\n",
    "full_data_indx = hcat(full_data[1:end, 1],  vcat( full_data[1, 2:end]', dat_indx))\n",
    "writecsv(\"../RossmanKaggleData/Results/AdjSales_NoWeekends_ShuffleWithinCol_Binned$(d).csv\", full_data_indx)\n",
    "writecsv(\"../RossmanKaggleData/Results/support$(d).csv\", supp_full)\n",
    "writecsv(\"../RossmanKaggleData/Results/ps_full$(d).csv\", ps_full)"
   ]
  },
  {
   "cell_type": "code",
   "execution_count": 6,
   "metadata": {
    "collapsed": false
   },
   "outputs": [
    {
     "data": {
      "text/plain": [
       "880×1115 Array{Any,2}:\n",
       "   \"NA\"    \"NA\"    \"NA\"    \"NA\"    \"NA\"  …    \"NA\"    \"NA\"    \"NA\"    \"NA\"\n",
       " 12       6       7       8       8          6       6       9       4    \n",
       "  8       6       5       5       6          4       4       6       5    \n",
       "  8       6       6       5       9          5       4       6       6    \n",
       " 10       1       3       9       1          5       3       7       6    \n",
       "   \"NA\"    \"NA\"    \"NA\"    \"NA\"    \"NA\"  …    \"NA\"    \"NA\"    \"NA\"    \"NA\"\n",
       " 18      12      15      12      15         20      13       9      11    \n",
       " 12      11      11       8      12         12       8       7       7    \n",
       " 12      12       9       6      12         10       6       5       6    \n",
       " 10       9       8       7      10         10       9       6       7    \n",
       " 10       7      11       9      10      …   9       7       8       7    \n",
       " 10       2       3       7       2          6       4       7       6    \n",
       "   \"NA\"    \"NA\"    \"NA\"    \"NA\"    \"NA\"       \"NA\"    \"NA\"    \"NA\"    \"NA\"\n",
       "  ⋮                                      ⋱                                \n",
       "  7       5       4       8       7          3       5      12       8    \n",
       "  4       4       4       6       5          2       2       9       6    \n",
       "  3       7       4       5       5      …   1       1       8       7    \n",
       "  4       5       4       2       6          2       5       8       8    \n",
       "  4       4       3       4       6          1       5       7       8    \n",
       "  7       1       1       6       1          1       1       9      10    \n",
       "   \"NA\"    \"NA\"    \"NA\"    \"NA\"    \"NA\"       \"NA\"    \"NA\"    \"NA\"    \"NA\"\n",
       " 13      11       8      11      14      …   9       8      15      18    \n",
       "  9       8       9       8      12          5       6      14      13    \n",
       "  8      10       7       8      11          4       6      14      12    \n",
       "  9       8       9       8       9          5       8      12      13    \n",
       " 10       9       8      14       8          5       8      16      14    "
      ]
     },
     "execution_count": 6,
     "metadata": {},
     "output_type": "execute_result"
    }
   ],
   "source": [
    "#check things have correct size\n",
    "#ps_full = readcsv(\"../RossmanKaggleData/Results/ps_full20.csv\")\n",
    "dat_indx"
   ]
  },
  {
   "cell_type": "code",
   "execution_count": null,
   "metadata": {
    "collapsed": false
   },
   "outputs": [],
   "source": [
    "binned_data = readcsv(\"../RossmanKaggleData/Results/AdjSalesByStore_Binned20.csv\")"
   ]
  },
  {
   "cell_type": "code",
   "execution_count": null,
   "metadata": {
    "collapsed": true
   },
   "outputs": [],
   "source": []
  }
 ],
 "metadata": {
  "kernelspec": {
   "display_name": "Julia 0.6.0",
   "language": "julia",
   "name": "julia-0.6"
  },
  "language_info": {
   "file_extension": ".jl",
   "mimetype": "application/julia",
   "name": "julia",
   "version": "0.6.0"
  }
 },
 "nbformat": 4,
 "nbformat_minor": 0
}
